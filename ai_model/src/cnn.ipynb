{
 "cells": [
  {
   "cell_type": "code",
   "execution_count": null,
   "metadata": {},
   "outputs": [
    {
     "name": "stdout",
     "output_type": "stream",
     "text": [
      "Input path exists: True\n",
      "Target path exists: False\n",
      "Files in input path: ['퐘.png', '곪.png', '뉦.png', '쳲.png', '캢.png', '뛤.png', '뾁.png', '뽆.png', '퓃.png', '쎔.png', '뢵.png', '즑.png', '궅.png', '툚.png', '늧.png', '쳳.png', '욆.png', '교.png', '쀣.png', '캖.png', '퀎.png', '듀.png', '쭸.png', '뉤.png', '쭷.png', '뻨.png', '뗓.png', '믖.png', '녕.png', '뷯.png', '빙.png', '쨏.png', '크.png', '먪.png', '뼈.png', '쀄.png', '챷.png', '륅.png', '음.png', '씖.png', '뎓.png', '봖.png', '톛.png', '튕.png', '쉣.png', '럛.png', '썂.png', '꺫.png', '꽺.png', '긬.png', '떝.png', '땜.png', '욯.png', '낯.png', '뼣.png', '럗.png', '쵣.png', '밭.png', '벬.png', '센.png', '뎾.png', '뀢.png', '싽.png', '삧.png', '뷛.png', '뢂.png', '튼.png', '팵.png', '콵.png', '뎮.png', '뚱.png', '쬅.png', '럴.png', '롂.png', '쩕.png', '콳.png', '쓥.png', '캺.png', '듷.png', '쭱.png', '욿.png', '젰.png', '즃.png', '퉔.png', '껱.png', '뭮.png', '햙.png', '뱄.png', '뵲.png', '븸.png', '쾽.png', '씃.png', '뽺.png', '촧.png', '쇽.png', '쀽.png', '룽.png', '뙒.png', '쐒.png', '꺆.png']\n"
     ]
    },
    {
     "ename": "FileNotFoundError",
     "evalue": "[Errno 2] No such file or directory: '/Users/kimeunsur/2024winter/4주차/font_ai_model/ai_model/font_dataset/nanumpen'",
     "output_type": "error",
     "traceback": [
      "\u001b[0;31m---------------------------------------------------------------------------\u001b[0m",
      "\u001b[0;31mFileNotFoundError\u001b[0m                         Traceback (most recent call last)",
      "Cell \u001b[0;32mIn[1], line 27\u001b[0m\n\u001b[1;32m     25\u001b[0m \u001b[38;5;66;03m# 파일 목록 확인\u001b[39;00m\n\u001b[1;32m     26\u001b[0m \u001b[38;5;28mprint\u001b[39m(\u001b[38;5;124m\"\u001b[39m\u001b[38;5;124mFiles in input path:\u001b[39m\u001b[38;5;124m\"\u001b[39m, os\u001b[38;5;241m.\u001b[39mlistdir(input_path))\n\u001b[0;32m---> 27\u001b[0m \u001b[38;5;28mprint\u001b[39m(\u001b[38;5;124m\"\u001b[39m\u001b[38;5;124mFiles in target path:\u001b[39m\u001b[38;5;124m\"\u001b[39m, \u001b[43mos\u001b[49m\u001b[38;5;241;43m.\u001b[39;49m\u001b[43mlistdir\u001b[49m\u001b[43m(\u001b[49m\u001b[43mtarget_path\u001b[49m\u001b[43m)\u001b[49m)\n\u001b[1;32m     28\u001b[0m \u001b[38;5;66;03m# 입력(고딕체) 데이터와 타겟 데이터 로드\u001b[39;00m\n\u001b[1;32m     29\u001b[0m X_gothic \u001b[38;5;241m=\u001b[39m load_images(input_path)  \u001b[38;5;66;03m# 고딕체 이미지\u001b[39;00m\n",
      "\u001b[0;31mFileNotFoundError\u001b[0m: [Errno 2] No such file or directory: '/Users/kimeunsur/2024winter/4주차/font_ai_model/ai_model/font_dataset/nanumpen'"
     ]
    }
   ],
   "source": [
    "import numpy as np\n",
    "import os\n",
    "from tensorflow.keras.utils import to_categorical\n",
    "import cv2\n",
    "\n",
    "# 데이터 로드 함수\n",
    "def load_images(image_dir, target_size=(64, 64)):\n",
    "    images = []\n",
    "    file_names = sorted(os.listdir(image_dir))  # 정렬하여 파일 순서를 맞춤\n",
    "    for file_name in file_names:\n",
    "        if file_name.endswith(\".png\"):\n",
    "            img = cv2.imread(os.path.join(image_dir, file_name), cv2.IMREAD_GRAYSCALE)\n",
    "            img = cv2.resize(img, target_size)  # 크기 조정\n",
    "            images.append(img)\n",
    "    return np.array(images)\n",
    "\n",
    "input_path = \"/Users/kimeunsur/2024winter/4주차/font_ai_model/ai_model/font_images/nanumgothic\"\n",
    "target_path = \"/Users/kimeunsur/2024winter/4주차/font_ai_model/ai_model/font_images/font_dataset\"\n",
    "import os\n",
    "\n",
    "# 파일 경로 확인\n",
    "print(\"Input path exists:\", os.path.exists(input_path))\n",
    "print(\"Target path exists:\", os.path.exists(target_path))\n",
    "\n",
    "# 파일 목록 확인\n",
    "print(\"Files in input path:\", os.listdir(input_path))\n",
    "print(\"Files in target path:\", os.listdir(target_path))\n",
    "# 입력(고딕체) 데이터와 타겟 데이터 로드\n",
    "X_gothic = load_images(input_path)  # 고딕체 이미지\n",
    "Y_target = load_images(target_path)  # 타겟 스타일 이미지\n",
    "\n",
    "# 데이터 정규화 (픽셀 값을 [0, 1]로 스케일링)\n",
    "X_gothic = X_gothic / 255.0\n",
    "Y_target = Y_target / 255.0\n",
    "\n",
    "# 차원 추가 (64x64 -> 64x64x1)\n",
    "X_gothic = np.expand_dims(X_gothic, axis=-1)\n",
    "Y_target = np.expand_dims(Y_target, axis=-1)"
   ]
  },
  {
   "cell_type": "code",
   "execution_count": 2,
   "metadata": {},
   "outputs": [
    {
     "ename": "NameError",
     "evalue": "name 'X_gothic' is not defined",
     "output_type": "error",
     "traceback": [
      "\u001b[0;31m---------------------------------------------------------------------------\u001b[0m",
      "\u001b[0;31mNameError\u001b[0m                                 Traceback (most recent call last)",
      "Cell \u001b[0;32mIn[2], line 2\u001b[0m\n\u001b[1;32m      1\u001b[0m \u001b[38;5;66;03m# 스타일 정보 생성\u001b[39;00m\n\u001b[0;32m----> 2\u001b[0m num_samples \u001b[38;5;241m=\u001b[39m \u001b[38;5;28mlen\u001b[39m(\u001b[43mX_gothic\u001b[49m)  \u001b[38;5;66;03m# 데이터 샘플 수\u001b[39;00m\n\u001b[1;32m      3\u001b[0m num_styles \u001b[38;5;241m=\u001b[39m \u001b[38;5;241m5\u001b[39m  \u001b[38;5;66;03m# 예: 5개의 스타일\u001b[39;00m\n\u001b[1;32m      4\u001b[0m style_labels \u001b[38;5;241m=\u001b[39m np\u001b[38;5;241m.\u001b[39mrandom\u001b[38;5;241m.\u001b[39mrandint(\u001b[38;5;241m0\u001b[39m, num_styles, size\u001b[38;5;241m=\u001b[39m(num_samples,))  \u001b[38;5;66;03m# 랜덤 스타일 레이블\u001b[39;00m\n",
      "\u001b[0;31mNameError\u001b[0m: name 'X_gothic' is not defined"
     ]
    }
   ],
   "source": [
    "# 스타일 정보 생성\n",
    "num_samples = len(X_gothic)  # 데이터 샘플 수\n",
    "num_styles = 5  # 예: 5개의 스타일\n",
    "style_labels = np.random.randint(0, num_styles, size=(num_samples,))  # 랜덤 스타일 레이블\n",
    "style_one_hot = to_categorical(style_labels, num_classes=num_styles)  # 원-핫 인코딩\n",
    "\n",
    "# 모델 정의\n",
    "input_img = layers.Input(shape=(64, 64, 1))  # 이미지 입력\n",
    "style_input = layers.Input(shape=(num_styles,))  # 스타일 정보 입력\n",
    "\n",
    "# Encoder\n",
    "x = layers.Conv2D(32, (3, 3), activation='relu', padding='same')(input_img)\n",
    "x = layers.MaxPooling2D((2, 2))(x) #이미지 크기 절반으로 64->32\n",
    "x = layers.Conv2D(64, (3, 3), activation='relu', padding='same')(x)\n",
    "encoded = layers.MaxPooling2D((2, 2))(x) #크기 32->16\n",
    "\n",
    "# Style Embedding\n",
    "style_embedding = layers.Dense(128, activation='relu')(style_input)\n",
    "\n",
    "# Decoder\n",
    "x = layers.Conv2DTranspose(64, (3, 3), activation='relu', padding='same')(encoded)\n",
    "x = layers.UpSampling2D((2, 2))(x) #16->32\n",
    "x = layers.Conv2DTranspose(32, (3, 3), activation='relu', padding='same')(x)\n",
    "x = layers.UpSampling2D((2, 2))(x) #32->64\n",
    "decoded = layers.Conv2DTranspose(1, (3, 3), activation='sigmoid', padding='same')(x)"
   ]
  },
  {
   "cell_type": "code",
   "execution_count": 35,
   "metadata": {},
   "outputs": [
    {
     "name": "stdout",
     "output_type": "stream",
     "text": [
      "Epoch 1/50\n"
     ]
    },
    {
     "name": "stderr",
     "output_type": "stream",
     "text": [
      "/Users/kimeunsur/yes/envs/newenv/lib/python3.11/site-packages/keras/src/models/functional.py:225: UserWarning: The structure of `inputs` doesn't match the expected structure: ['keras_tensor_72', 'keras_tensor_73']. Received: the structure of inputs=('*', '*')\n",
      "  warnings.warn(\n"
     ]
    },
    {
     "name": "stdout",
     "output_type": "stream",
     "text": [
      "\u001b[1m3/3\u001b[0m \u001b[32m━━━━━━━━━━━━━━━━━━━━\u001b[0m\u001b[37m\u001b[0m \u001b[1m3s\u001b[0m 574ms/step - accuracy: 0.6052 - loss: 0.2243 - val_accuracy: 0.8671 - val_loss: 0.1483\n",
      "Epoch 2/50\n",
      "\u001b[1m3/3\u001b[0m \u001b[32m━━━━━━━━━━━━━━━━━━━━\u001b[0m\u001b[37m\u001b[0m \u001b[1m1s\u001b[0m 302ms/step - accuracy: 0.8697 - loss: 0.1316 - val_accuracy: 0.8671 - val_loss: 0.0843\n",
      "Epoch 3/50\n",
      "\u001b[1m3/3\u001b[0m \u001b[32m━━━━━━━━━━━━━━━━━━━━\u001b[0m\u001b[37m\u001b[0m \u001b[1m1s\u001b[0m 302ms/step - accuracy: 0.8690 - loss: 0.0831 - val_accuracy: 0.8671 - val_loss: 0.0847\n",
      "Epoch 4/50\n",
      "\u001b[1m3/3\u001b[0m \u001b[32m━━━━━━━━━━━━━━━━━━━━\u001b[0m\u001b[37m\u001b[0m \u001b[1m1s\u001b[0m 309ms/step - accuracy: 0.8710 - loss: 0.0821 - val_accuracy: 0.8671 - val_loss: 0.0841\n",
      "Epoch 5/50\n",
      "\u001b[1m3/3\u001b[0m \u001b[32m━━━━━━━━━━━━━━━━━━━━\u001b[0m\u001b[37m\u001b[0m \u001b[1m1s\u001b[0m 312ms/step - accuracy: 0.8689 - loss: 0.0830 - val_accuracy: 0.8671 - val_loss: 0.0839\n",
      "Epoch 6/50\n",
      "\u001b[1m3/3\u001b[0m \u001b[32m━━━━━━━━━━━━━━━━━━━━\u001b[0m\u001b[37m\u001b[0m \u001b[1m1s\u001b[0m 303ms/step - accuracy: 0.8704 - loss: 0.0818 - val_accuracy: 0.8671 - val_loss: 0.0838\n",
      "Epoch 7/50\n",
      "\u001b[1m3/3\u001b[0m \u001b[32m━━━━━━━━━━━━━━━━━━━━\u001b[0m\u001b[37m\u001b[0m \u001b[1m1s\u001b[0m 309ms/step - accuracy: 0.8694 - loss: 0.0824 - val_accuracy: 0.8671 - val_loss: 0.0838\n",
      "Epoch 8/50\n",
      "\u001b[1m3/3\u001b[0m \u001b[32m━━━━━━━━━━━━━━━━━━━━\u001b[0m\u001b[37m\u001b[0m \u001b[1m1s\u001b[0m 301ms/step - accuracy: 0.8696 - loss: 0.0822 - val_accuracy: 0.8671 - val_loss: 0.0838\n",
      "Epoch 9/50\n",
      "\u001b[1m3/3\u001b[0m \u001b[32m━━━━━━━━━━━━━━━━━━━━\u001b[0m\u001b[37m\u001b[0m \u001b[1m1s\u001b[0m 311ms/step - accuracy: 0.8695 - loss: 0.0824 - val_accuracy: 0.8671 - val_loss: 0.0838\n",
      "Epoch 10/50\n",
      "\u001b[1m3/3\u001b[0m \u001b[32m━━━━━━━━━━━━━━━━━━━━\u001b[0m\u001b[37m\u001b[0m \u001b[1m1s\u001b[0m 303ms/step - accuracy: 0.8683 - loss: 0.0831 - val_accuracy: 0.8671 - val_loss: 0.0838\n",
      "Epoch 11/50\n",
      "\u001b[1m3/3\u001b[0m \u001b[32m━━━━━━━━━━━━━━━━━━━━\u001b[0m\u001b[37m\u001b[0m \u001b[1m1s\u001b[0m 306ms/step - accuracy: 0.8695 - loss: 0.0824 - val_accuracy: 0.8671 - val_loss: 0.0838\n",
      "Epoch 12/50\n",
      "\u001b[1m3/3\u001b[0m \u001b[32m━━━━━━━━━━━━━━━━━━━━\u001b[0m\u001b[37m\u001b[0m \u001b[1m1s\u001b[0m 302ms/step - accuracy: 0.8694 - loss: 0.0824 - val_accuracy: 0.8671 - val_loss: 0.0838\n",
      "Epoch 13/50\n",
      "\u001b[1m3/3\u001b[0m \u001b[32m━━━━━━━━━━━━━━━━━━━━\u001b[0m\u001b[37m\u001b[0m \u001b[1m1s\u001b[0m 302ms/step - accuracy: 0.8683 - loss: 0.0831 - val_accuracy: 0.8671 - val_loss: 0.0838\n",
      "Epoch 14/50\n",
      "\u001b[1m3/3\u001b[0m \u001b[32m━━━━━━━━━━━━━━━━━━━━\u001b[0m\u001b[37m\u001b[0m \u001b[1m1s\u001b[0m 313ms/step - accuracy: 0.8674 - loss: 0.0836 - val_accuracy: 0.8671 - val_loss: 0.0838\n",
      "Epoch 15/50\n",
      "\u001b[1m3/3\u001b[0m \u001b[32m━━━━━━━━━━━━━━━━━━━━\u001b[0m\u001b[37m\u001b[0m \u001b[1m1s\u001b[0m 298ms/step - accuracy: 0.8718 - loss: 0.0809 - val_accuracy: 0.8671 - val_loss: 0.0838\n",
      "Epoch 16/50\n",
      "\u001b[1m3/3\u001b[0m \u001b[32m━━━━━━━━━━━━━━━━━━━━\u001b[0m\u001b[37m\u001b[0m \u001b[1m1s\u001b[0m 306ms/step - accuracy: 0.8683 - loss: 0.0832 - val_accuracy: 0.8671 - val_loss: 0.0838\n",
      "Epoch 17/50\n",
      "\u001b[1m3/3\u001b[0m \u001b[32m━━━━━━━━━━━━━━━━━━━━\u001b[0m\u001b[37m\u001b[0m \u001b[1m1s\u001b[0m 305ms/step - accuracy: 0.8704 - loss: 0.0817 - val_accuracy: 0.8671 - val_loss: 0.0838\n",
      "Epoch 18/50\n",
      "\u001b[1m3/3\u001b[0m \u001b[32m━━━━━━━━━━━━━━━━━━━━\u001b[0m\u001b[37m\u001b[0m \u001b[1m1s\u001b[0m 309ms/step - accuracy: 0.8686 - loss: 0.0828 - val_accuracy: 0.8671 - val_loss: 0.0838\n",
      "Epoch 19/50\n",
      "\u001b[1m3/3\u001b[0m \u001b[32m━━━━━━━━━━━━━━━━━━━━\u001b[0m\u001b[37m\u001b[0m \u001b[1m1s\u001b[0m 305ms/step - accuracy: 0.8709 - loss: 0.0814 - val_accuracy: 0.8671 - val_loss: 0.0838\n",
      "Epoch 20/50\n",
      "\u001b[1m3/3\u001b[0m \u001b[32m━━━━━━━━━━━━━━━━━━━━\u001b[0m\u001b[37m\u001b[0m \u001b[1m1s\u001b[0m 300ms/step - accuracy: 0.8691 - loss: 0.0826 - val_accuracy: 0.8671 - val_loss: 0.0838\n",
      "Epoch 21/50\n",
      "\u001b[1m3/3\u001b[0m \u001b[32m━━━━━━━━━━━━━━━━━━━━\u001b[0m\u001b[37m\u001b[0m \u001b[1m1s\u001b[0m 310ms/step - accuracy: 0.8701 - loss: 0.0820 - val_accuracy: 0.8671 - val_loss: 0.0838\n",
      "Epoch 22/50\n",
      "\u001b[1m3/3\u001b[0m \u001b[32m━━━━━━━━━━━━━━━━━━━━\u001b[0m\u001b[37m\u001b[0m \u001b[1m1s\u001b[0m 294ms/step - accuracy: 0.8686 - loss: 0.0829 - val_accuracy: 0.8671 - val_loss: 0.0838\n",
      "Epoch 23/50\n",
      "\u001b[1m3/3\u001b[0m \u001b[32m━━━━━━━━━━━━━━━━━━━━\u001b[0m\u001b[37m\u001b[0m \u001b[1m1s\u001b[0m 314ms/step - accuracy: 0.8681 - loss: 0.0831 - val_accuracy: 0.8671 - val_loss: 0.0838\n",
      "Epoch 24/50\n",
      "\u001b[1m3/3\u001b[0m \u001b[32m━━━━━━━━━━━━━━━━━━━━\u001b[0m\u001b[37m\u001b[0m \u001b[1m1s\u001b[0m 302ms/step - accuracy: 0.8700 - loss: 0.0821 - val_accuracy: 0.8671 - val_loss: 0.0838\n",
      "Epoch 25/50\n",
      "\u001b[1m3/3\u001b[0m \u001b[32m━━━━━━━━━━━━━━━━━━━━\u001b[0m\u001b[37m\u001b[0m \u001b[1m1s\u001b[0m 320ms/step - accuracy: 0.8705 - loss: 0.0818 - val_accuracy: 0.8671 - val_loss: 0.0838\n",
      "Epoch 26/50\n",
      "\u001b[1m3/3\u001b[0m \u001b[32m━━━━━━━━━━━━━━━━━━━━\u001b[0m\u001b[37m\u001b[0m \u001b[1m1s\u001b[0m 309ms/step - accuracy: 0.8719 - loss: 0.0808 - val_accuracy: 0.8671 - val_loss: 0.0838\n",
      "Epoch 27/50\n",
      "\u001b[1m3/3\u001b[0m \u001b[32m━━━━━━━━━━━━━━━━━━━━\u001b[0m\u001b[37m\u001b[0m \u001b[1m1s\u001b[0m 322ms/step - accuracy: 0.8687 - loss: 0.0830 - val_accuracy: 0.8671 - val_loss: 0.0838\n",
      "Epoch 28/50\n",
      "\u001b[1m3/3\u001b[0m \u001b[32m━━━━━━━━━━━━━━━━━━━━\u001b[0m\u001b[37m\u001b[0m \u001b[1m1s\u001b[0m 310ms/step - accuracy: 0.8697 - loss: 0.0822 - val_accuracy: 0.8671 - val_loss: 0.0838\n",
      "Epoch 29/50\n",
      "\u001b[1m3/3\u001b[0m \u001b[32m━━━━━━━━━━━━━━━━━━━━\u001b[0m\u001b[37m\u001b[0m \u001b[1m1s\u001b[0m 311ms/step - accuracy: 0.8674 - loss: 0.0836 - val_accuracy: 0.8671 - val_loss: 0.0838\n",
      "Epoch 30/50\n",
      "\u001b[1m3/3\u001b[0m \u001b[32m━━━━━━━━━━━━━━━━━━━━\u001b[0m\u001b[37m\u001b[0m \u001b[1m1s\u001b[0m 308ms/step - accuracy: 0.8697 - loss: 0.0822 - val_accuracy: 0.8671 - val_loss: 0.0838\n",
      "Epoch 31/50\n",
      "\u001b[1m3/3\u001b[0m \u001b[32m━━━━━━━━━━━━━━━━━━━━\u001b[0m\u001b[37m\u001b[0m \u001b[1m1s\u001b[0m 309ms/step - accuracy: 0.8680 - loss: 0.0833 - val_accuracy: 0.8671 - val_loss: 0.0838\n",
      "Epoch 32/50\n",
      "\u001b[1m3/3\u001b[0m \u001b[32m━━━━━━━━━━━━━━━━━━━━\u001b[0m\u001b[37m\u001b[0m \u001b[1m1s\u001b[0m 306ms/step - accuracy: 0.8696 - loss: 0.0824 - val_accuracy: 0.8671 - val_loss: 0.0838\n",
      "Epoch 33/50\n",
      "\u001b[1m3/3\u001b[0m \u001b[32m━━━━━━━━━━━━━━━━━━━━\u001b[0m\u001b[37m\u001b[0m \u001b[1m1s\u001b[0m 308ms/step - accuracy: 0.8703 - loss: 0.0818 - val_accuracy: 0.8671 - val_loss: 0.0838\n",
      "Epoch 34/50\n",
      "\u001b[1m3/3\u001b[0m \u001b[32m━━━━━━━━━━━━━━━━━━━━\u001b[0m\u001b[37m\u001b[0m \u001b[1m1s\u001b[0m 306ms/step - accuracy: 0.8688 - loss: 0.0828 - val_accuracy: 0.8671 - val_loss: 0.0838\n",
      "Epoch 35/50\n",
      "\u001b[1m3/3\u001b[0m \u001b[32m━━━━━━━━━━━━━━━━━━━━\u001b[0m\u001b[37m\u001b[0m \u001b[1m1s\u001b[0m 316ms/step - accuracy: 0.8712 - loss: 0.0812 - val_accuracy: 0.8671 - val_loss: 0.0838\n",
      "Epoch 36/50\n",
      "\u001b[1m3/3\u001b[0m \u001b[32m━━━━━━━━━━━━━━━━━━━━\u001b[0m\u001b[37m\u001b[0m \u001b[1m1s\u001b[0m 313ms/step - accuracy: 0.8703 - loss: 0.0819 - val_accuracy: 0.8671 - val_loss: 0.0838\n",
      "Epoch 37/50\n",
      "\u001b[1m3/3\u001b[0m \u001b[32m━━━━━━━━━━━━━━━━━━━━\u001b[0m\u001b[37m\u001b[0m \u001b[1m1s\u001b[0m 323ms/step - accuracy: 0.8714 - loss: 0.0811 - val_accuracy: 0.8671 - val_loss: 0.0838\n",
      "Epoch 38/50\n",
      "\u001b[1m3/3\u001b[0m \u001b[32m━━━━━━━━━━━━━━━━━━━━\u001b[0m\u001b[37m\u001b[0m \u001b[1m1s\u001b[0m 319ms/step - accuracy: 0.8677 - loss: 0.0834 - val_accuracy: 0.8671 - val_loss: 0.0838\n",
      "Epoch 39/50\n",
      "\u001b[1m3/3\u001b[0m \u001b[32m━━━━━━━━━━━━━━━━━━━━\u001b[0m\u001b[37m\u001b[0m \u001b[1m1s\u001b[0m 309ms/step - accuracy: 0.8690 - loss: 0.0828 - val_accuracy: 0.8671 - val_loss: 0.0838\n",
      "Epoch 40/50\n",
      "\u001b[1m3/3\u001b[0m \u001b[32m━━━━━━━━━━━━━━━━━━━━\u001b[0m\u001b[37m\u001b[0m \u001b[1m1s\u001b[0m 311ms/step - accuracy: 0.8699 - loss: 0.0821 - val_accuracy: 0.8671 - val_loss: 0.0838\n",
      "Epoch 41/50\n",
      "\u001b[1m3/3\u001b[0m \u001b[32m━━━━━━━━━━━━━━━━━━━━\u001b[0m\u001b[37m\u001b[0m \u001b[1m1s\u001b[0m 311ms/step - accuracy: 0.8686 - loss: 0.0828 - val_accuracy: 0.8671 - val_loss: 0.0838\n",
      "Epoch 42/50\n",
      "\u001b[1m3/3\u001b[0m \u001b[32m━━━━━━━━━━━━━━━━━━━━\u001b[0m\u001b[37m\u001b[0m \u001b[1m1s\u001b[0m 305ms/step - accuracy: 0.8701 - loss: 0.0820 - val_accuracy: 0.8671 - val_loss: 0.0838\n",
      "Epoch 43/50\n",
      "\u001b[1m3/3\u001b[0m \u001b[32m━━━━━━━━━━━━━━━━━━━━\u001b[0m\u001b[37m\u001b[0m \u001b[1m1s\u001b[0m 308ms/step - accuracy: 0.8722 - loss: 0.0806 - val_accuracy: 0.8671 - val_loss: 0.0838\n",
      "Epoch 44/50\n",
      "\u001b[1m3/3\u001b[0m \u001b[32m━━━━━━━━━━━━━━━━━━━━\u001b[0m\u001b[37m\u001b[0m \u001b[1m1s\u001b[0m 307ms/step - accuracy: 0.8699 - loss: 0.0820 - val_accuracy: 0.8671 - val_loss: 0.0838\n",
      "Epoch 45/50\n",
      "\u001b[1m3/3\u001b[0m \u001b[32m━━━━━━━━━━━━━━━━━━━━\u001b[0m\u001b[37m\u001b[0m \u001b[1m1s\u001b[0m 318ms/step - accuracy: 0.8717 - loss: 0.0809 - val_accuracy: 0.8671 - val_loss: 0.0838\n",
      "Epoch 46/50\n",
      "\u001b[1m3/3\u001b[0m \u001b[32m━━━━━━━━━━━━━━━━━━━━\u001b[0m\u001b[37m\u001b[0m \u001b[1m1s\u001b[0m 308ms/step - accuracy: 0.8682 - loss: 0.0831 - val_accuracy: 0.8671 - val_loss: 0.0838\n",
      "Epoch 47/50\n",
      "\u001b[1m3/3\u001b[0m \u001b[32m━━━━━━━━━━━━━━━━━━━━\u001b[0m\u001b[37m\u001b[0m \u001b[1m1s\u001b[0m 307ms/step - accuracy: 0.8687 - loss: 0.0828 - val_accuracy: 0.8671 - val_loss: 0.0838\n",
      "Epoch 48/50\n",
      "\u001b[1m3/3\u001b[0m \u001b[32m━━━━━━━━━━━━━━━━━━━━\u001b[0m\u001b[37m\u001b[0m \u001b[1m1s\u001b[0m 310ms/step - accuracy: 0.8678 - loss: 0.0835 - val_accuracy: 0.8671 - val_loss: 0.0838\n",
      "Epoch 49/50\n",
      "\u001b[1m3/3\u001b[0m \u001b[32m━━━━━━━━━━━━━━━━━━━━\u001b[0m\u001b[37m\u001b[0m \u001b[1m1s\u001b[0m 305ms/step - accuracy: 0.8695 - loss: 0.0822 - val_accuracy: 0.8671 - val_loss: 0.0838\n",
      "Epoch 50/50\n",
      "\u001b[1m3/3\u001b[0m \u001b[32m━━━━━━━━━━━━━━━━━━━━\u001b[0m\u001b[37m\u001b[0m \u001b[1m1s\u001b[0m 313ms/step - accuracy: 0.8706 - loss: 0.0815 - val_accuracy: 0.8671 - val_loss: 0.0838\n"
     ]
    }
   ],
   "source": [
    "# 모델 생성\n",
    "model = Model([input_img, style_input], decoded)\n",
    "model.compile(optimizer='adam', loss='mse', metrics=['accuracy'])\n",
    "\n",
    "# 모델 학습\n",
    "history = model.fit(\n",
    "    [X_gothic, style_one_hot],  # 입력: 고딕체 이미지와 스타일 정보\n",
    "    Y_target,                   # 출력: 타겟 폰트 이미지\n",
    "    validation_split=0.2,       # 검증 데이터 비율\n",
    "    epochs=50,                  # 학습 반복 횟수\n",
    "    batch_size=32               # 배치 크기\n",
    ")"
   ]
  },
  {
   "cell_type": "code",
   "execution_count": 36,
   "metadata": {},
   "outputs": [
    {
     "data": {
      "image/png": "[encoded data removed]",
      "text/plain": [
       "<Figure size 640x480 with 1 Axes>"
      ]
     },
     "metadata": {},
     "output_type": "display_data"
    }
   ],
   "source": [
    "import matplotlib.pyplot as plt\n",
    "\n",
    "plt.plot(history.history['loss'], label='Training Loss')\n",
    "plt.plot(history.history['val_loss'], label='Validation Loss')\n",
    "plt.legend()\n",
    "plt.title('Loss Over Epochs')\n",
    "plt.xlabel('Epochs')\n",
    "plt.ylabel('Loss')\n",
    "plt.show()"
   ]
  },
  {
   "cell_type": "markdown",
   "metadata": {},
   "source": [
    "이제 전이학습일 시켜봅세다. transfer learning"
   ]
  },
  {
   "cell_type": "code",
   "execution_count": null,
   "metadata": {},
   "outputs": [],
   "source": []
  },
  {
   "cell_type": "code",
   "execution_count": null,
   "metadata": {},
   "outputs": [],
   "source": []
  }
 ],
 "metadata": {
  "kernelspec": {
   "display_name": "Python 3",
   "language": "python",
   "name": "python3"
  },
  "language_info": {
   "codemirror_mode": {
    "name": "ipython",
    "version": 3
   },
   "file_extension": ".py",
   "mimetype": "text/x-python",
   "name": "python",
   "nbconvert_exporter": "python",
   "pygments_lexer": "ipython3",
   "version": "3.11.3"
  }
 },
 "nbformat": 4,
 "nbformat_minor": 2
}
