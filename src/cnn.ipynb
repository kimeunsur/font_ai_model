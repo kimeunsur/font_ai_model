{
 "cells": [
  {
   "cell_type": "code",
   "execution_count": 6,
   "metadata": {},
   "outputs": [],
   "source": [
    "from tensorflow.keras import layers, Model\n",
    "from tensorflow.python.client import device_lib\n",
    "# Encoder\n",
    "input_img = layers.Input(shape=(64, 64, 1))\n",
    "x = layers.Conv2D(32, (3, 3), activation='relu', padding='same')(input_img)\n",
    "x = layers.MaxPooling2D((2, 2))(x)\n",
    "x = layers.Conv2D(64, (3, 3), activation='relu', padding='same')(x)\n",
    "encoded = layers.MaxPooling2D((2, 2))(x)\n",
    "\n",
    "num_styles = 100\n",
    "# Style Embedding\n",
    "style_input = layers.Input(shape=(num_styles,))\n",
    "style_embedding = layers.Dense(128, activation='relu')(style_input)\n",
    "\n",
    "# Decoder\n",
    "x = layers.Conv2DTranspose(64, (3, 3), activation='relu', padding='same')(encoded)\n",
    "x = layers.UpSampling2D((2, 2))(x)\n",
    "x = layers.Conv2DTranspose(32, (3, 3), activation='relu', padding='same')(x)\n",
    "x = layers.UpSampling2D((2, 2))(x)\n",
    "decoded = layers.Conv2DTranspose(1, (3, 3), activation='sigmoid', padding='same')(x)\n",
    "\n",
    "# 모델 생성\n",
    "model = Model([input_img, style_input], decoded)\n",
    "model.compile(optimizer='adam', loss='mse', metrics=['accuracy'])"
   ]
  },
  {
   "cell_type": "code",
   "execution_count": null,
   "metadata": {},
   "outputs": [
    {
     "ename": "FileNotFoundError",
     "evalue": "[Errno 2] No such file or directory: '../font_images/target'",
     "output_type": "error",
     "traceback": [
      "\u001b[0;31m---------------------------------------------------------------------------\u001b[0m",
      "\u001b[0;31mFileNotFoundError\u001b[0m                         Traceback (most recent call last)",
      "Cell \u001b[0;32mIn[11], line 21\u001b[0m\n\u001b[1;32m     19\u001b[0m \u001b[38;5;66;03m# 입력(고딕체) 데이터와 타겟 데이터 로드\u001b[39;00m\n\u001b[1;32m     20\u001b[0m X_gothic \u001b[38;5;241m=\u001b[39m load_images(input_path)  \u001b[38;5;66;03m# 고딕체 이미지\u001b[39;00m\n\u001b[0;32m---> 21\u001b[0m Y_target \u001b[38;5;241m=\u001b[39m \u001b[43mload_images\u001b[49m\u001b[43m(\u001b[49m\u001b[43mtarget_path\u001b[49m\u001b[43m)\u001b[49m  \u001b[38;5;66;03m# 타겟 스타일 이미지\u001b[39;00m\n\u001b[1;32m     23\u001b[0m \u001b[38;5;66;03m# 데이터 정규화 (픽셀 값을 [0, 1]로 스케일링)\u001b[39;00m\n\u001b[1;32m     24\u001b[0m X_gothic \u001b[38;5;241m=\u001b[39m X_gothic \u001b[38;5;241m/\u001b[39m \u001b[38;5;241m255.0\u001b[39m\n",
      "Cell \u001b[0;32mIn[11], line 11\u001b[0m, in \u001b[0;36mload_images\u001b[0;34m(image_dir, target_size)\u001b[0m\n\u001b[1;32m      9\u001b[0m \u001b[38;5;28;01mdef\u001b[39;00m \u001b[38;5;21mload_images\u001b[39m(image_dir, target_size\u001b[38;5;241m=\u001b[39m(\u001b[38;5;241m64\u001b[39m, \u001b[38;5;241m64\u001b[39m)):\n\u001b[1;32m     10\u001b[0m     images \u001b[38;5;241m=\u001b[39m []\n\u001b[0;32m---> 11\u001b[0m     file_names \u001b[38;5;241m=\u001b[39m \u001b[38;5;28msorted\u001b[39m(os\u001b[38;5;241m.\u001b[39mlistdir(image_dir))  \u001b[38;5;66;03m# 정렬하여 파일 순서를 맞춤\u001b[39;00m\n\u001b[1;32m     12\u001b[0m     \u001b[38;5;28;01mfor\u001b[39;00m file_name \u001b[38;5;129;01min\u001b[39;00m file_names:\n\u001b[1;32m     13\u001b[0m         \u001b[38;5;28;01mif\u001b[39;00m file_name\u001b[38;5;241m.\u001b[39mendswith(\u001b[38;5;124m\"\u001b[39m\u001b[38;5;124m.png\u001b[39m\u001b[38;5;124m\"\u001b[39m):\n",
      "\u001b[0;31mFileNotFoundError\u001b[0m: [Errno 2] No such file or directory: '../font_images/target'"
     ]
    }
   ],
   "source": [
    "import numpy as np\n",
    "import os\n",
    "from tensorflow.keras.utils import to_categorical\n",
    "import cv2\n",
    "input_path = \"/Users/kimeunsur/2024winter/4주차/font_ai_model/font_images/nanumgothic\"\n",
    "target_path = \"/Users/kimeunsur/2024winter/4주차/font_ai_model/font_images/nanumpen\"\n",
    "\n",
    "# 데이터 로드 함수\n",
    "def load_images(image_dir, target_size=(64, 64)):\n",
    "    images = []\n",
    "    file_names = sorted(os.listdir(image_dir))  # 정렬하여 파일 순서를 맞춤\n",
    "    for file_name in file_names:\n",
    "        if file_name.endswith(\".png\"):\n",
    "            img = cv2.imread(os.path.join(image_dir, file_name), cv2.IMREAD_GRAYSCALE)\n",
    "            img = cv2.resize(img, target_size)  # 크기 조정\n",
    "            images.append(img)\n",
    "    return np.array(images)\n",
    "\n",
    "# 입력(고딕체) 데이터와 타겟 데이터 로드\n",
    "X_gothic = load_images(input_path)  # 고딕체 이미지\n",
    "Y_target = load_images(target_path)  # 타겟 스타일 이미지\n",
    "\n",
    "# 데이터 정규화 (픽셀 값을 [0, 1]로 스케일링)\n",
    "X_gothic = X_gothic / 255.0\n",
    "Y_target = Y_target / 255.0\n",
    "\n",
    "# 차원 추가 (64x64 -> 64x64x1)\n",
    "X_gothic = np.expand_dims(X_gothic, axis=-1)\n",
    "Y_target = np.expand_dims(Y_target, axis=-1)"
   ]
  },
  {
   "cell_type": "code",
   "execution_count": 3,
   "metadata": {},
   "outputs": [
    {
     "name": "stdout",
     "output_type": "stream",
     "text": [
      "Epoch 1/50\n"
     ]
    },
    {
     "name": "stderr",
     "output_type": "stream",
     "text": [
      "/Users/kimeunsur/yes/envs/newenv/lib/python3.11/site-packages/keras/src/models/functional.py:225: UserWarning: The structure of `inputs` doesn't match the expected structure: ['keras_tensor', 'keras_tensor_5']. Received: the structure of inputs=('*', '*')\n",
      "  warnings.warn(\n",
      "2025-01-17 15:19:52.414650: I tensorflow/core/grappler/optimizers/custom_graph_optimizer_registry.cc:117] Plugin optimizer for device_type GPU is enabled.\n"
     ]
    },
    {
     "name": "stdout",
     "output_type": "stream",
     "text": [
      "\u001b[1m25/25\u001b[0m \u001b[32m━━━━━━━━━━━━━━━━━━━━\u001b[0m\u001b[37m\u001b[0m \u001b[1m14s\u001b[0m 417ms/step - accuracy: 0.0000e+00 - loss: 0.1616 - val_accuracy: 0.0000e+00 - val_loss: 3.3529e-05\n",
      "Epoch 2/50\n",
      "\u001b[1m25/25\u001b[0m \u001b[32m━━━━━━━━━━━━━━━━━━━━\u001b[0m\u001b[37m\u001b[0m \u001b[1m10s\u001b[0m 392ms/step - accuracy: 0.0000e+00 - loss: 1.7995e-05 - val_accuracy: 0.0000e+00 - val_loss: 6.7418e-06\n",
      "Epoch 3/50\n",
      "\u001b[1m25/25\u001b[0m \u001b[32m━━━━━━━━━━━━━━━━━━━━\u001b[0m\u001b[37m\u001b[0m \u001b[1m10s\u001b[0m 389ms/step - accuracy: 0.0000e+00 - loss: 6.5448e-06 - val_accuracy: 0.0000e+00 - val_loss: 6.2312e-06\n",
      "Epoch 4/50\n",
      "\u001b[1m25/25\u001b[0m \u001b[32m━━━━━━━━━━━━━━━━━━━━\u001b[0m\u001b[37m\u001b[0m \u001b[1m10s\u001b[0m 386ms/step - accuracy: 0.0000e+00 - loss: 6.2131e-06 - val_accuracy: 0.0000e+00 - val_loss: 6.1457e-06\n",
      "Epoch 5/50\n",
      "\u001b[1m25/25\u001b[0m \u001b[32m━━━━━━━━━━━━━━━━━━━━\u001b[0m\u001b[37m\u001b[0m \u001b[1m10s\u001b[0m 392ms/step - accuracy: 0.0000e+00 - loss: 6.1463e-06 - val_accuracy: 0.0000e+00 - val_loss: 6.0748e-06\n",
      "Epoch 6/50\n",
      "\u001b[1m25/25\u001b[0m \u001b[32m━━━━━━━━━━━━━━━━━━━━\u001b[0m\u001b[37m\u001b[0m \u001b[1m10s\u001b[0m 390ms/step - accuracy: 0.0000e+00 - loss: 6.0709e-06 - val_accuracy: 0.0000e+00 - val_loss: 5.9832e-06\n",
      "Epoch 7/50\n",
      "\u001b[1m25/25\u001b[0m \u001b[32m━━━━━━━━━━━━━━━━━━━━\u001b[0m\u001b[37m\u001b[0m \u001b[1m10s\u001b[0m 387ms/step - accuracy: 0.0000e+00 - loss: 5.9706e-06 - val_accuracy: 0.0000e+00 - val_loss: 5.8678e-06\n",
      "Epoch 8/50\n",
      "\u001b[1m25/25\u001b[0m \u001b[32m━━━━━━━━━━━━━━━━━━━━\u001b[0m\u001b[37m\u001b[0m \u001b[1m10s\u001b[0m 388ms/step - accuracy: 0.0000e+00 - loss: 5.8510e-06 - val_accuracy: 0.0000e+00 - val_loss: 5.7213e-06\n",
      "Epoch 9/50\n",
      "\u001b[1m25/25\u001b[0m \u001b[32m━━━━━━━━━━━━━━━━━━━━\u001b[0m\u001b[37m\u001b[0m \u001b[1m10s\u001b[0m 387ms/step - accuracy: 0.0000e+00 - loss: 5.7000e-06 - val_accuracy: 0.0000e+00 - val_loss: 5.5767e-06\n",
      "Epoch 10/50\n",
      "\u001b[1m25/25\u001b[0m \u001b[32m━━━━━━━━━━━━━━━━━━━━\u001b[0m\u001b[37m\u001b[0m \u001b[1m10s\u001b[0m 388ms/step - accuracy: 0.0000e+00 - loss: 5.5588e-06 - val_accuracy: 0.0000e+00 - val_loss: 5.4559e-06\n",
      "Epoch 11/50\n",
      "\u001b[1m25/25\u001b[0m \u001b[32m━━━━━━━━━━━━━━━━━━━━\u001b[0m\u001b[37m\u001b[0m \u001b[1m10s\u001b[0m 388ms/step - accuracy: 0.0000e+00 - loss: 5.4428e-06 - val_accuracy: 0.0000e+00 - val_loss: 5.3639e-06\n",
      "Epoch 12/50\n",
      "\u001b[1m25/25\u001b[0m \u001b[32m━━━━━━━━━━━━━━━━━━━━\u001b[0m\u001b[37m\u001b[0m \u001b[1m10s\u001b[0m 388ms/step - accuracy: 0.0000e+00 - loss: 5.3581e-06 - val_accuracy: 0.0000e+00 - val_loss: 5.2968e-06\n",
      "Epoch 13/50\n",
      "\u001b[1m25/25\u001b[0m \u001b[32m━━━━━━━━━━━━━━━━━━━━\u001b[0m\u001b[37m\u001b[0m \u001b[1m10s\u001b[0m 387ms/step - accuracy: 0.0000e+00 - loss: 5.2990e-06 - val_accuracy: 0.0000e+00 - val_loss: 5.2488e-06\n",
      "Epoch 14/50\n",
      "\u001b[1m25/25\u001b[0m \u001b[32m━━━━━━━━━━━━━━━━━━━━\u001b[0m\u001b[37m\u001b[0m \u001b[1m10s\u001b[0m 388ms/step - accuracy: 0.0000e+00 - loss: 5.2535e-06 - val_accuracy: 0.0000e+00 - val_loss: 5.2147e-06\n",
      "Epoch 15/50\n",
      "\u001b[1m25/25\u001b[0m \u001b[32m━━━━━━━━━━━━━━━━━━━━\u001b[0m\u001b[37m\u001b[0m \u001b[1m10s\u001b[0m 387ms/step - accuracy: 0.0000e+00 - loss: 5.2228e-06 - val_accuracy: 0.0000e+00 - val_loss: 5.1903e-06\n",
      "Epoch 16/50\n",
      "\u001b[1m25/25\u001b[0m \u001b[32m━━━━━━━━━━━━━━━━━━━━\u001b[0m\u001b[37m\u001b[0m \u001b[1m10s\u001b[0m 388ms/step - accuracy: 0.0000e+00 - loss: 5.1991e-06 - val_accuracy: 0.0000e+00 - val_loss: 5.1726e-06\n",
      "Epoch 17/50\n",
      "\u001b[1m25/25\u001b[0m \u001b[32m━━━━━━━━━━━━━━━━━━━━\u001b[0m\u001b[37m\u001b[0m \u001b[1m10s\u001b[0m 386ms/step - accuracy: 0.0000e+00 - loss: 5.1817e-06 - val_accuracy: 0.0000e+00 - val_loss: 5.1596e-06\n",
      "Epoch 18/50\n",
      "\u001b[1m25/25\u001b[0m \u001b[32m━━━━━━━━━━━━━━━━━━━━\u001b[0m\u001b[37m\u001b[0m \u001b[1m10s\u001b[0m 389ms/step - accuracy: 0.0000e+00 - loss: 5.1723e-06 - val_accuracy: 0.0000e+00 - val_loss: 5.1499e-06\n",
      "Epoch 19/50\n",
      "\u001b[1m25/25\u001b[0m \u001b[32m━━━━━━━━━━━━━━━━━━━━\u001b[0m\u001b[37m\u001b[0m \u001b[1m10s\u001b[0m 389ms/step - accuracy: 0.0000e+00 - loss: 5.1612e-06 - val_accuracy: 0.0000e+00 - val_loss: 5.1425e-06\n",
      "Epoch 20/50\n",
      "\u001b[1m25/25\u001b[0m \u001b[32m━━━━━━━━━━━━━━━━━━━━\u001b[0m\u001b[37m\u001b[0m \u001b[1m10s\u001b[0m 389ms/step - accuracy: 0.0000e+00 - loss: 5.1496e-06 - val_accuracy: 0.0000e+00 - val_loss: 5.1369e-06\n",
      "Epoch 21/50\n",
      "\u001b[1m25/25\u001b[0m \u001b[32m━━━━━━━━━━━━━━━━━━━━\u001b[0m\u001b[37m\u001b[0m \u001b[1m10s\u001b[0m 389ms/step - accuracy: 0.0000e+00 - loss: 5.1480e-06 - val_accuracy: 0.0000e+00 - val_loss: 5.1324e-06\n",
      "Epoch 22/50\n",
      "\u001b[1m25/25\u001b[0m \u001b[32m━━━━━━━━━━━━━━━━━━━━\u001b[0m\u001b[37m\u001b[0m \u001b[1m10s\u001b[0m 388ms/step - accuracy: 0.0000e+00 - loss: 5.1431e-06 - val_accuracy: 0.0000e+00 - val_loss: 5.1289e-06\n",
      "Epoch 23/50\n",
      "\u001b[1m25/25\u001b[0m \u001b[32m━━━━━━━━━━━━━━━━━━━━\u001b[0m\u001b[37m\u001b[0m \u001b[1m10s\u001b[0m 388ms/step - accuracy: 0.0000e+00 - loss: 5.1384e-06 - val_accuracy: 0.0000e+00 - val_loss: 5.1260e-06\n",
      "Epoch 24/50\n",
      "\u001b[1m25/25\u001b[0m \u001b[32m━━━━━━━━━━━━━━━━━━━━\u001b[0m\u001b[37m\u001b[0m \u001b[1m10s\u001b[0m 386ms/step - accuracy: 0.0000e+00 - loss: 5.1383e-06 - val_accuracy: 0.0000e+00 - val_loss: 5.1237e-06\n",
      "Epoch 25/50\n",
      "\u001b[1m25/25\u001b[0m \u001b[32m━━━━━━━━━━━━━━━━━━━━\u001b[0m\u001b[37m\u001b[0m \u001b[1m10s\u001b[0m 393ms/step - accuracy: 0.0000e+00 - loss: 5.1354e-06 - val_accuracy: 0.0000e+00 - val_loss: 5.1218e-06\n",
      "Epoch 26/50\n",
      "\u001b[1m25/25\u001b[0m \u001b[32m━━━━━━━━━━━━━━━━━━━━\u001b[0m\u001b[37m\u001b[0m \u001b[1m10s\u001b[0m 392ms/step - accuracy: 0.0000e+00 - loss: 5.1346e-06 - val_accuracy: 0.0000e+00 - val_loss: 5.1203e-06\n",
      "Epoch 27/50\n",
      "\u001b[1m25/25\u001b[0m \u001b[32m━━━━━━━━━━━━━━━━━━━━\u001b[0m\u001b[37m\u001b[0m \u001b[1m10s\u001b[0m 387ms/step - accuracy: 0.0000e+00 - loss: 5.1304e-06 - val_accuracy: 0.0000e+00 - val_loss: 5.1189e-06\n",
      "Epoch 28/50\n",
      "\u001b[1m25/25\u001b[0m \u001b[32m━━━━━━━━━━━━━━━━━━━━\u001b[0m\u001b[37m\u001b[0m \u001b[1m10s\u001b[0m 386ms/step - accuracy: 0.0000e+00 - loss: 5.1284e-06 - val_accuracy: 0.0000e+00 - val_loss: 5.1178e-06\n",
      "Epoch 29/50\n",
      "\u001b[1m25/25\u001b[0m \u001b[32m━━━━━━━━━━━━━━━━━━━━\u001b[0m\u001b[37m\u001b[0m \u001b[1m10s\u001b[0m 392ms/step - accuracy: 0.0000e+00 - loss: 5.1318e-06 - val_accuracy: 0.0000e+00 - val_loss: 5.1169e-06\n",
      "Epoch 30/50\n",
      "\u001b[1m25/25\u001b[0m \u001b[32m━━━━━━━━━━━━━━━━━━━━\u001b[0m\u001b[37m\u001b[0m \u001b[1m10s\u001b[0m 389ms/step - accuracy: 0.0000e+00 - loss: 5.1305e-06 - val_accuracy: 0.0000e+00 - val_loss: 5.1161e-06\n",
      "Epoch 31/50\n",
      "\u001b[1m25/25\u001b[0m \u001b[32m━━━━━━━━━━━━━━━━━━━━\u001b[0m\u001b[37m\u001b[0m \u001b[1m10s\u001b[0m 386ms/step - accuracy: 0.0000e+00 - loss: 5.1295e-06 - val_accuracy: 0.0000e+00 - val_loss: 5.1154e-06\n",
      "Epoch 32/50\n",
      "\u001b[1m25/25\u001b[0m \u001b[32m━━━━━━━━━━━━━━━━━━━━\u001b[0m\u001b[37m\u001b[0m \u001b[1m10s\u001b[0m 388ms/step - accuracy: 0.0000e+00 - loss: 5.1324e-06 - val_accuracy: 0.0000e+00 - val_loss: 5.1148e-06\n",
      "Epoch 33/50\n",
      "\u001b[1m25/25\u001b[0m \u001b[32m━━━━━━━━━━━━━━━━━━━━\u001b[0m\u001b[37m\u001b[0m \u001b[1m10s\u001b[0m 390ms/step - accuracy: 0.0000e+00 - loss: 5.1299e-06 - val_accuracy: 0.0000e+00 - val_loss: 5.1143e-06\n",
      "Epoch 34/50\n",
      "\u001b[1m25/25\u001b[0m \u001b[32m━━━━━━━━━━━━━━━━━━━━\u001b[0m\u001b[37m\u001b[0m \u001b[1m10s\u001b[0m 388ms/step - accuracy: 0.0000e+00 - loss: 5.1320e-06 - val_accuracy: 0.0000e+00 - val_loss: 5.1138e-06\n",
      "Epoch 35/50\n",
      "\u001b[1m25/25\u001b[0m \u001b[32m━━━━━━━━━━━━━━━━━━━━\u001b[0m\u001b[37m\u001b[0m \u001b[1m10s\u001b[0m 383ms/step - accuracy: 0.0000e+00 - loss: 5.1277e-06 - val_accuracy: 0.0000e+00 - val_loss: 5.1134e-06\n",
      "Epoch 36/50\n",
      "\u001b[1m25/25\u001b[0m \u001b[32m━━━━━━━━━━━━━━━━━━━━\u001b[0m\u001b[37m\u001b[0m \u001b[1m10s\u001b[0m 385ms/step - accuracy: 0.0000e+00 - loss: 5.1248e-06 - val_accuracy: 0.0000e+00 - val_loss: 5.1130e-06\n",
      "Epoch 37/50\n",
      "\u001b[1m25/25\u001b[0m \u001b[32m━━━━━━━━━━━━━━━━━━━━\u001b[0m\u001b[37m\u001b[0m \u001b[1m10s\u001b[0m 390ms/step - accuracy: 0.0000e+00 - loss: 5.1247e-06 - val_accuracy: 0.0000e+00 - val_loss: 5.1127e-06\n",
      "Epoch 38/50\n",
      "\u001b[1m25/25\u001b[0m \u001b[32m━━━━━━━━━━━━━━━━━━━━\u001b[0m\u001b[37m\u001b[0m \u001b[1m10s\u001b[0m 386ms/step - accuracy: 0.0000e+00 - loss: 5.1254e-06 - val_accuracy: 0.0000e+00 - val_loss: 5.1125e-06\n",
      "Epoch 39/50\n",
      "\u001b[1m25/25\u001b[0m \u001b[32m━━━━━━━━━━━━━━━━━━━━\u001b[0m\u001b[37m\u001b[0m \u001b[1m10s\u001b[0m 385ms/step - accuracy: 0.0000e+00 - loss: 5.1250e-06 - val_accuracy: 0.0000e+00 - val_loss: 5.1122e-06\n",
      "Epoch 40/50\n",
      "\u001b[1m25/25\u001b[0m \u001b[32m━━━━━━━━━━━━━━━━━━━━\u001b[0m\u001b[37m\u001b[0m \u001b[1m10s\u001b[0m 386ms/step - accuracy: 0.0000e+00 - loss: 5.1278e-06 - val_accuracy: 0.0000e+00 - val_loss: 5.1120e-06\n",
      "Epoch 41/50\n",
      "\u001b[1m25/25\u001b[0m \u001b[32m━━━━━━━━━━━━━━━━━━━━\u001b[0m\u001b[37m\u001b[0m \u001b[1m10s\u001b[0m 391ms/step - accuracy: 0.0000e+00 - loss: 5.1279e-06 - val_accuracy: 0.0000e+00 - val_loss: 5.1118e-06\n",
      "Epoch 42/50\n",
      "\u001b[1m25/25\u001b[0m \u001b[32m━━━━━━━━━━━━━━━━━━━━\u001b[0m\u001b[37m\u001b[0m \u001b[1m10s\u001b[0m 391ms/step - accuracy: 0.0000e+00 - loss: 5.1279e-06 - val_accuracy: 0.0000e+00 - val_loss: 5.1116e-06\n",
      "Epoch 43/50\n",
      "\u001b[1m25/25\u001b[0m \u001b[32m━━━━━━━━━━━━━━━━━━━━\u001b[0m\u001b[37m\u001b[0m \u001b[1m10s\u001b[0m 390ms/step - accuracy: 0.0000e+00 - loss: 5.1253e-06 - val_accuracy: 0.0000e+00 - val_loss: 5.1115e-06\n",
      "Epoch 44/50\n",
      "\u001b[1m25/25\u001b[0m \u001b[32m━━━━━━━━━━━━━━━━━━━━\u001b[0m\u001b[37m\u001b[0m \u001b[1m10s\u001b[0m 385ms/step - accuracy: 0.0000e+00 - loss: 5.1240e-06 - val_accuracy: 0.0000e+00 - val_loss: 5.1113e-06\n",
      "Epoch 45/50\n",
      "\u001b[1m25/25\u001b[0m \u001b[32m━━━━━━━━━━━━━━━━━━━━\u001b[0m\u001b[37m\u001b[0m \u001b[1m10s\u001b[0m 388ms/step - accuracy: 0.0000e+00 - loss: 5.1254e-06 - val_accuracy: 0.0000e+00 - val_loss: 5.1112e-06\n",
      "Epoch 46/50\n",
      "\u001b[1m25/25\u001b[0m \u001b[32m━━━━━━━━━━━━━━━━━━━━\u001b[0m\u001b[37m\u001b[0m \u001b[1m10s\u001b[0m 385ms/step - accuracy: 0.0000e+00 - loss: 5.1236e-06 - val_accuracy: 0.0000e+00 - val_loss: 5.1111e-06\n",
      "Epoch 47/50\n",
      "\u001b[1m25/25\u001b[0m \u001b[32m━━━━━━━━━━━━━━━━━━━━\u001b[0m\u001b[37m\u001b[0m \u001b[1m10s\u001b[0m 383ms/step - accuracy: 0.0000e+00 - loss: 5.1232e-06 - val_accuracy: 0.0000e+00 - val_loss: 5.1110e-06\n",
      "Epoch 48/50\n",
      "\u001b[1m25/25\u001b[0m \u001b[32m━━━━━━━━━━━━━━━━━━━━\u001b[0m\u001b[37m\u001b[0m \u001b[1m10s\u001b[0m 383ms/step - accuracy: 0.0000e+00 - loss: 5.1234e-06 - val_accuracy: 0.0000e+00 - val_loss: 5.1109e-06\n",
      "Epoch 49/50\n",
      "\u001b[1m25/25\u001b[0m \u001b[32m━━━━━━━━━━━━━━━━━━━━\u001b[0m\u001b[37m\u001b[0m \u001b[1m10s\u001b[0m 388ms/step - accuracy: 0.0000e+00 - loss: 5.1241e-06 - val_accuracy: 0.0000e+00 - val_loss: 5.1108e-06\n",
      "Epoch 50/50\n",
      "\u001b[1m25/25\u001b[0m \u001b[32m━━━━━━━━━━━━━━━━━━━━\u001b[0m\u001b[37m\u001b[0m \u001b[1m10s\u001b[0m 392ms/step - accuracy: 0.0000e+00 - loss: 5.1228e-06 - val_accuracy: 0.0000e+00 - val_loss: 5.1107e-06\n"
     ]
    }
   ],
   "source": [
    "# 모델 학습\n",
    "history = model.fit(\n",
    "    [X_gothic, style_one_hot],  # 입력: 고딕체 이미지와 스타일 정보\n",
    "    Y_target,                   # 출력: 타겟 폰트 이미지\n",
    "    validation_split=0.2,       # 검증 데이터 비율\n",
    "    epochs=50,                  # 학습 반복 횟수\n",
    "    batch_size=32               # 배치 크기\n",
    ")"
   ]
  },
  {
   "cell_type": "code",
   "execution_count": 4,
   "metadata": {},
   "outputs": [
    {
     "data": {
      "image/png": "[encoded data removed]",
      "text/plain": [
       "<Figure size 640x480 with 1 Axes>"
      ]
     },
     "metadata": {},
     "output_type": "display_data"
    }
   ],
   "source": [
    "import matplotlib.pyplot as plt\n",
    "\n",
    "plt.plot(history.history['loss'], label='Training Loss')\n",
    "plt.plot(history.history['val_loss'], label='Validation Loss')\n",
    "plt.legend()\n",
    "plt.title('Loss Over Epochs')\n",
    "plt.xlabel('Epochs')\n",
    "plt.ylabel('Loss')\n",
    "plt.show()"
   ]
  },
  {
   "cell_type": "code",
   "execution_count": null,
   "metadata": {},
   "outputs": [],
   "source": []
  }
 ],
 "metadata": {
  "kernelspec": {
   "display_name": "Python 3",
   "language": "python",
   "name": "python3"
  },
  "language_info": {
   "codemirror_mode": {
    "name": "ipython",
    "version": 3
   },
   "file_extension": ".py",
   "mimetype": "text/x-python",
   "name": "python",
   "nbconvert_exporter": "python",
   "pygments_lexer": "ipython3",
   "version": "3.11.3"
  }
 },
 "nbformat": 4,
 "nbformat_minor": 2
}
